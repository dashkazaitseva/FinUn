{
 "cells": [
  {
   "cell_type": "markdown",
   "metadata": {
    "id": "os1RQ6q73YL0"
   },
   "source": [
    "###Общая логика\n",
    "\n"
   ]
  },
  {
   "cell_type": "markdown",
   "metadata": {
    "id": "JgqShwWm3c2a"
   },
   "source": [
    "\n",
    "\n",
    "\n",
    "\n",
    "\n",
    "\n",
    "> Классы, в которых описаны непосредственно сами фигуры(их разрешенные ходы)\n",
    "\n",
    "> Класс $Field$, в котором описано поле, текущее состояние поля\n",
    "\n",
    "> Класс $Game$, в котором описана сама игра\n"
   ]
  },
  {
   "cell_type": "markdown",
   "metadata": {
    "id": "jGMlQLRe3d9C"
   },
   "source": [
    "###Код"
   ]
  },
  {
   "cell_type": "code",
   "execution_count": null,
   "metadata": {
    "id": "7S5ba5O-Aziw"
   },
   "outputs": [],
   "source": [
    "class Pawn():\n",
    "    def __init__(self, x, y, color):\n",
    "        self.x = x\n",
    "        self.y = y\n",
    "        self.color = color\n",
    "        self.used = False\n",
    "\n",
    "    def __allow_move(self, dx, dy, eat):\n",
    "        if (eat):\n",
    "            return (dx * dx + dy * dy > 0 and abs(dx) == 1 and (self.color == 0 and dy == -1 or self.color == 1 and dy == 1)) \n",
    "        elif ((0 <= self.x + dx <= 7) and (0 <= self.y + dy <= 7) and dx * dx + dy * dy > 0 and (self.color == 0 and dx == 0 and (self.y == 6 and (dy == -2 or dy == -1) or dy == -1) or self.color == 1 and dx == 0 and (self.y == 1 and (dy == 2 or dy == 1) or dy == 1) )):\n",
    "            return True\n",
    "        else:\n",
    "            return False\n",
    "    def move(self, dx, dy, eat = False):\n",
    "        if (self.__allow_move(dx, dy, eat)):\n",
    "            self.x += dx\n",
    "            \n",
    "            self.y += dy\n",
    "            self.used = True\n",
    "            return True\n",
    "        return False\n",
    "    def __str__(self):\n",
    "        if self.color == 0:\n",
    "            return 'P'\n",
    "        else:\n",
    "            return 'p'\n",
    "        "
   ]
  },
  {
   "cell_type": "code",
   "execution_count": null,
   "metadata": {
    "id": "wCcmztKgAzcq"
   },
   "outputs": [],
   "source": [
    "class Knight():\n",
    "    def __init__(self, x, y, color):\n",
    "        self.x = x\n",
    "        self.y = y\n",
    "        self.color = color\n",
    "        self.used = False\n",
    "\n",
    "    def __allow_move(self, dx, dy, eat):\n",
    "        if (dx * dx + dy * dy > 0 and (abs(dx) == 2 and abs(dy) == 1 or abs(dx) == 1 and abs(dy) == 2) and (0 <= self.x + dx <= 7) and (0 <= self.y + dy <= 7)):\n",
    "            return True\n",
    "        else:\n",
    "            return False\n",
    "    def move(self, dx, dy, eat = False):\n",
    "        if (self.__allow_move(dx, dy, eat)):\n",
    "            self.x += dx\n",
    "            self.y += dy\n",
    "            self.used = True\n",
    "            return True\n",
    "        return False\n",
    "    def __str__(self):\n",
    "        if self.color == 0:\n",
    "            return 'N'\n",
    "        else:\n",
    "            return 'n'"
   ]
  },
  {
   "cell_type": "code",
   "execution_count": null,
   "metadata": {
    "id": "KmXSYIYCAzVg"
   },
   "outputs": [],
   "source": [
    "class Bishop():\n",
    "    def __init__(self, x, y, color):\n",
    "        self.x = x\n",
    "        self.y = y\n",
    "        self.color = color\n",
    "        self.used = False\n",
    "\n",
    "    def __allow_move(self, dx, dy, eat):\n",
    "        if (dx * dx + dy * dy > 0 and abs(dx) == abs(dy) and (0 <= self.x + dx <= 7) and (0 <= self.y + dy <= 7)):\n",
    "            return True\n",
    "        else:\n",
    "            return False\n",
    "    def move(self, dx, dy, eat = False):\n",
    "        if (self.__allow_move(dx, dy, eat)):\n",
    "            self.x += dx\n",
    "            self.y += dy\n",
    "            self.used = True\n",
    "            return True\n",
    "        return False\n",
    "    def __str__(self):\n",
    "        if self.color == 0:\n",
    "            return 'B'\n",
    "        else:\n",
    "            return 'b'"
   ]
  },
  {
   "cell_type": "code",
   "execution_count": null,
   "metadata": {
    "id": "dpMMjBThr_AS"
   },
   "outputs": [],
   "source": [
    "class Rook():\n",
    "    def __init__(self, x, y, color):\n",
    "        self.x = x\n",
    "        self.y = y\n",
    "        self.color = color\n",
    "        self.used = False\n",
    "\n",
    "    def __allow_move(self, dx, dy, eat):\n",
    "        if (dx * dx + dy * dy > 0 and (abs(dy) == 0 and abs(dx) != 0 or abs(dx) == 0 and abs(dy) != 0) and (0 <= self.x + dx <= 7) and (0 <= self.y + dy <= 7)):\n",
    "            return True\n",
    "        else:\n",
    "            return False\n",
    "    def move(self, dx, dy, eat = False):\n",
    "        if (self.__allow_move(dx, dy, eat)):\n",
    "            self.x += dx\n",
    "            self.y += dy\n",
    "            self.used = True\n",
    "            return True\n",
    "        return False\n",
    "    def __str__(self):\n",
    "        if self.color == 0:\n",
    "            return 'R'\n",
    "        else:\n",
    "            return 'r'"
   ]
  },
  {
   "cell_type": "code",
   "execution_count": null,
   "metadata": {
    "id": "Vwgj0Nm8AzEB"
   },
   "outputs": [],
   "source": [
    "class Queen():\n",
    "    def __init__(self, x, y, color):\n",
    "        self.x = x\n",
    "        self.y = y\n",
    "        self.color = color\n",
    "        self.used = False\n",
    "\n",
    "    def __allow_move(self, dx, dy, eat):\n",
    "        return True\n",
    "    def move(self, dx, dy, eat = False):\n",
    "        if (self.__allow_move(dx, dy, eat)):\n",
    "            self.x += dx\n",
    "            self.y += dy\n",
    "            self.used = True\n",
    "            return True\n",
    "        return False\n",
    "    def __str__(self):\n",
    "        if self.color == 0:\n",
    "            return 'Q'\n",
    "        else:\n",
    "            return 'q'"
   ]
  },
  {
   "cell_type": "code",
   "execution_count": null,
   "metadata": {
    "id": "XKSsvoSCBOlZ"
   },
   "outputs": [],
   "source": [
    "class King():\n",
    "    def __init__(self, x, y, color):\n",
    "        self.x = x\n",
    "        self.y = y\n",
    "        self.color = color\n",
    "        self.used = False\n",
    "\n",
    "    def __allow_move(self, dx, dy):\n",
    "        if (dx * dx + dy * dy <= 2  and dx * dx + dy * dy > 0 and (0 <= self.x + dx <= 7) and (0 <= self.y + dy <= 7)):\n",
    "            return True\n",
    "        else:\n",
    "            return False\n",
    "    def move(self, dx, dy, eat = False):\n",
    "        if (self.__allow_move(dx, dy, eat)):\n",
    "            self.x += dx\n",
    "            self.y += dy\n",
    "            self.used = True\n",
    "            return True\n",
    "        return False\n",
    "    def __str__(self):\n",
    "        if self.color == 0:\n",
    "            return 'K'\n",
    "        else:\n",
    "            return 'k'"
   ]
  },
  {
   "cell_type": "code",
   "execution_count": null,
   "metadata": {
    "id": "Kt3upuGaVVo3"
   },
   "outputs": [],
   "source": [
    "class Field():\n",
    "    def __init__(self):\n",
    "        self.field = [['.' for _ in range (8)] for j in range(8)]\n",
    "        self.field[1] = [Pawn(i, 1, 1) for i in range(8)]\n",
    "        self.field[0] = [Rook(0, 0, 1), Knight(1, 0, 1), Bishop(2, 0, 1), Queen(3, 0, 1), King(4, 0, 1), Bishop(5, 0, 1), Knight(6, 0, 1 ), Rook(7, 0, 1) ]\n",
    "        self.field[6] = [Pawn(i, 6, 0) for i in range(8)]\n",
    "        self.field[7] = [Rook(0, 7, 0), Knight(1, 7, 0), Bishop(2, 7, 0), Queen(3, 7, 0), King(4, 7, 0), Bishop(5, 7, 0), Knight(6, 7, 0), Rook(7, 7, 0) ]\n",
    "\n",
    "    def display_field(self):\n",
    "        print(end = '  ')\n",
    "        for i in range(8):\n",
    "            print(chr(ord('A') + i), end = '')\n",
    "        print()\n",
    "\n",
    "        for i in range(8):\n",
    "            print( i+ 1, end = ' ')\n",
    "            for j in range(8):\n",
    "                print(self.field[i][j], end = '')\n",
    "            print()\n",
    "        print(end = '  ')\n",
    "        for i in range(8):\n",
    "            print(chr(ord('A') + i), end = '')\n",
    "        print()\n",
    "    \n",
    "\n",
    "\n",
    "\n",
    "    def end_game(self):\n",
    "        cnt = 0\n",
    "        for i in range(8):\n",
    "            for j in range(8):\n",
    "                if (type(self.field[i][j]) == King):\n",
    "                    cnt += 1\n",
    "        return  (False if cnt == 2 else True)\n",
    "\n",
    "    def castling(self, cur_player, s):\n",
    "        a = s1.split('-')\n",
    "        steps = [[int(a[0][1]) - 1, ord(a[0][0]) - ord('A')], [ int(a[1][1]) - 1, ord(a[1][0]) - ord('A')]]\n",
    "        r = steps[0][0]\n",
    "        if (steps[0][1] == 0):\n",
    "            if (self.field[r][0].used == False and self.field[r][4] == False):\n",
    "                self.field[r][3] = Rook(r, 3, cur_player)\n",
    "                self.field[r][2] = King(r, 2, cur_player)\n",
    "                self.field[r][0] = '.'\n",
    "                self.field[r][4] = '.'\n",
    "                return True\n",
    "            else:\n",
    "                return False\n",
    "                \n",
    "        else if (steps[0][1] == 4):\n",
    "            if (self.field[r][4].used == False and self.field[r][7] == False):\n",
    "                self.field[r][5] = Rook(r, 3, cur_player)\n",
    "                self.field[r][6] = King(r, 2, cur_player)\n",
    "                self.field[r][4] = '.'\n",
    "                self.field[r][7] = '.'\n",
    "                return True\n",
    "            else:\n",
    "                return False\n",
    "        \n",
    "    \n",
    "    \n"
   ]
  },
  {
   "cell_type": "code",
   "execution_count": null,
   "metadata": {
    "colab": {
     "base_uri": "https://localhost:8080/"
    },
    "id": "ntwCsT2cod94",
    "outputId": "64760f7a-49d7-4345-862b-03995af51bcd"
   },
   "outputs": [
    {
     "name": "stdout",
     "output_type": "stream",
     "text": [
      "  ABCDEFGH\n",
      "1 rnbqkbnr\n",
      "2 pppppppp\n",
      "3 ........\n",
      "4 ........\n",
      "5 ........\n",
      "6 ........\n",
      "7 PPPPPPPP\n",
      "8 RNBQKBNR\n",
      "  ABCDEFGH\n"
     ]
    }
   ],
   "source": [
    "f = Field()\n",
    "\n",
    "Field.display_field(f)"
   ]
  },
  {
   "cell_type": "code",
   "execution_count": null,
   "metadata": {
    "id": "dqCC0xQa3UAp"
   },
   "outputs": [],
   "source": [
    "class Game():\n",
    "    def __init__(self):\n",
    "        self.cur_player = 0 #0 и 1 игроки ходят по очереди\n",
    "        self.board = Field()\n",
    "        print('Format of imputting movement: LetterNumber:LetterNumber')\n",
    "\n",
    "    def play(self):\n",
    "        while True:\n",
    "            self.board.display_field()\n",
    "            if (self.board.end_game()):\n",
    "                break\n",
    "            cur_sit = False\n",
    "            while (not cur_sit):\n",
    "                s1 = input(f'Player  {str(self.cur_player + 1) } input your movement: ' )\n",
    "                if (s1 == 'castling'):\n",
    "                    s2 = input('Player  {str(self.cur_player + 1) } input your movement for castling: ')\n",
    "                    cur_sit = Field.castling(self.board, cur_player, s2)\n",
    "                a = s1.split('-')\n",
    "                steps = [[int(a[0][1]) - 1, ord(a[0][0]) - ord('A')], [ int(a[1][1]) - 1, ord(a[1][0]) - ord('A')]]\n",
    "                print(steps)\n",
    "                \n",
    "                if (self.board.field[steps[0][0]][steps[0][1]] == '.' or self.board.field[steps[0][0]][steps[0][1]].color != self.cur_player):\n",
    "                    continue\n",
    "                else:\n",
    "\n",
    "                    cur_fig = self.board.field[steps[0][0]][steps[0][1]]\n",
    "                   \n",
    "                    cur_sit = type(cur_fig).move(cur_fig, steps[1][1] - steps[0][1], steps[1][0] - steps[0][0], self.board.field[steps[1][0]][steps[1][1]] != '.')\n",
    "\n",
    "                    if (cur_sit):\n",
    "                        self.board.field[steps[0][0]][steps[0][1]] = '.'\n",
    "                        print(cur_fig.x, cur_fig.y)\n",
    "                        self.board.field[cur_fig.y][cur_fig.x] = cur_fig\n",
    "                        self.cur_player += 1\n",
    "                        self.cur_player %= 2"
   ]
  },
  {
   "cell_type": "code",
   "execution_count": null,
   "metadata": {
    "colab": {
     "base_uri": "https://localhost:8080/",
     "height": 1000
    },
    "id": "i-bSvRPKchMy",
    "outputId": "44cb66d3-2487-4530-b5a3-521a78612ff6"
   },
   "outputs": [
    {
     "name": "stdout",
     "output_type": "stream",
     "text": [
      "Format of imputting movement: LetterNumber:LetterNumber\n",
      "  ABCDEFGH\n",
      "1 rnbqkbnr\n",
      "2 pppppppp\n",
      "3 ........\n",
      "4 ........\n",
      "5 ........\n",
      "6 ........\n",
      "7 PPPPPPPP\n",
      "8 RNBQKBNR\n",
      "  ABCDEFGH\n",
      "Player  1 input your movement: A7-A6\n",
      "[[6, 0], [5, 0]]\n",
      "0 5\n",
      "  ABCDEFGH\n",
      "1 rnbqkbnr\n",
      "2 pppppppp\n",
      "3 ........\n",
      "4 ........\n",
      "5 ........\n",
      "6 P.......\n",
      "7 .PPPPPPP\n",
      "8 RNBQKBNR\n",
      "  ABCDEFGH\n",
      "Player  2 input your movement: B2-B4\n",
      "[[1, 1], [3, 1]]\n",
      "1 3\n",
      "  ABCDEFGH\n",
      "1 rnbqkbnr\n",
      "2 p.pppppp\n",
      "3 ........\n",
      "4 .p......\n",
      "5 ........\n",
      "6 P.......\n",
      "7 .PPPPPPP\n",
      "8 RNBQKBNR\n",
      "  ABCDEFGH\n",
      "Player  1 input your movement: B4-B5\n",
      "[[3, 1], [4, 1]]\n"
     ]
    },
    {
     "ename": "KeyboardInterrupt",
     "evalue": "ignored",
     "output_type": "error",
     "traceback": [
      "\u001b[0;31m---------------------------------------------------------------------------\u001b[0m",
      "\u001b[0;31mKeyboardInterrupt\u001b[0m                         Traceback (most recent call last)",
      "\u001b[0;32m/usr/local/lib/python3.7/dist-packages/ipykernel/kernelbase.py\u001b[0m in \u001b[0;36m_input_request\u001b[0;34m(self, prompt, ident, parent, password)\u001b[0m\n\u001b[1;32m    728\u001b[0m             \u001b[0;32mtry\u001b[0m\u001b[0;34m:\u001b[0m\u001b[0;34m\u001b[0m\u001b[0;34m\u001b[0m\u001b[0m\n\u001b[0;32m--> 729\u001b[0;31m                 \u001b[0mident\u001b[0m\u001b[0;34m,\u001b[0m \u001b[0mreply\u001b[0m \u001b[0;34m=\u001b[0m \u001b[0mself\u001b[0m\u001b[0;34m.\u001b[0m\u001b[0msession\u001b[0m\u001b[0;34m.\u001b[0m\u001b[0mrecv\u001b[0m\u001b[0;34m(\u001b[0m\u001b[0mself\u001b[0m\u001b[0;34m.\u001b[0m\u001b[0mstdin_socket\u001b[0m\u001b[0;34m,\u001b[0m \u001b[0;36m0\u001b[0m\u001b[0;34m)\u001b[0m\u001b[0;34m\u001b[0m\u001b[0;34m\u001b[0m\u001b[0m\n\u001b[0m\u001b[1;32m    730\u001b[0m             \u001b[0;32mexcept\u001b[0m \u001b[0mException\u001b[0m\u001b[0;34m:\u001b[0m\u001b[0;34m\u001b[0m\u001b[0;34m\u001b[0m\u001b[0m\n",
      "\u001b[0;32m/usr/local/lib/python3.7/dist-packages/jupyter_client/session.py\u001b[0m in \u001b[0;36mrecv\u001b[0;34m(self, socket, mode, content, copy)\u001b[0m\n\u001b[1;32m    802\u001b[0m         \u001b[0;32mtry\u001b[0m\u001b[0;34m:\u001b[0m\u001b[0;34m\u001b[0m\u001b[0;34m\u001b[0m\u001b[0m\n\u001b[0;32m--> 803\u001b[0;31m             \u001b[0mmsg_list\u001b[0m \u001b[0;34m=\u001b[0m \u001b[0msocket\u001b[0m\u001b[0;34m.\u001b[0m\u001b[0mrecv_multipart\u001b[0m\u001b[0;34m(\u001b[0m\u001b[0mmode\u001b[0m\u001b[0;34m,\u001b[0m \u001b[0mcopy\u001b[0m\u001b[0;34m=\u001b[0m\u001b[0mcopy\u001b[0m\u001b[0;34m)\u001b[0m\u001b[0;34m\u001b[0m\u001b[0;34m\u001b[0m\u001b[0m\n\u001b[0m\u001b[1;32m    804\u001b[0m         \u001b[0;32mexcept\u001b[0m \u001b[0mzmq\u001b[0m\u001b[0;34m.\u001b[0m\u001b[0mZMQError\u001b[0m \u001b[0;32mas\u001b[0m \u001b[0me\u001b[0m\u001b[0;34m:\u001b[0m\u001b[0;34m\u001b[0m\u001b[0;34m\u001b[0m\u001b[0m\n",
      "\u001b[0;32m/usr/local/lib/python3.7/dist-packages/zmq/sugar/socket.py\u001b[0m in \u001b[0;36mrecv_multipart\u001b[0;34m(self, flags, copy, track)\u001b[0m\n\u001b[1;32m    582\u001b[0m         \"\"\"\n\u001b[0;32m--> 583\u001b[0;31m         \u001b[0mparts\u001b[0m \u001b[0;34m=\u001b[0m \u001b[0;34m[\u001b[0m\u001b[0mself\u001b[0m\u001b[0;34m.\u001b[0m\u001b[0mrecv\u001b[0m\u001b[0;34m(\u001b[0m\u001b[0mflags\u001b[0m\u001b[0;34m,\u001b[0m \u001b[0mcopy\u001b[0m\u001b[0;34m=\u001b[0m\u001b[0mcopy\u001b[0m\u001b[0;34m,\u001b[0m \u001b[0mtrack\u001b[0m\u001b[0;34m=\u001b[0m\u001b[0mtrack\u001b[0m\u001b[0;34m)\u001b[0m\u001b[0;34m]\u001b[0m\u001b[0;34m\u001b[0m\u001b[0;34m\u001b[0m\u001b[0m\n\u001b[0m\u001b[1;32m    584\u001b[0m         \u001b[0;31m# have first part already, only loop while more to receive\u001b[0m\u001b[0;34m\u001b[0m\u001b[0;34m\u001b[0m\u001b[0;34m\u001b[0m\u001b[0m\n",
      "\u001b[0;32mzmq/backend/cython/socket.pyx\u001b[0m in \u001b[0;36mzmq.backend.cython.socket.Socket.recv\u001b[0;34m()\u001b[0m\n",
      "\u001b[0;32mzmq/backend/cython/socket.pyx\u001b[0m in \u001b[0;36mzmq.backend.cython.socket.Socket.recv\u001b[0;34m()\u001b[0m\n",
      "\u001b[0;32mzmq/backend/cython/socket.pyx\u001b[0m in \u001b[0;36mzmq.backend.cython.socket._recv_copy\u001b[0;34m()\u001b[0m\n",
      "\u001b[0;32m/usr/local/lib/python3.7/dist-packages/zmq/backend/cython/checkrc.pxd\u001b[0m in \u001b[0;36mzmq.backend.cython.checkrc._check_rc\u001b[0;34m()\u001b[0m\n",
      "\u001b[0;31mKeyboardInterrupt\u001b[0m: ",
      "\nDuring handling of the above exception, another exception occurred:\n",
      "\u001b[0;31mKeyboardInterrupt\u001b[0m                         Traceback (most recent call last)",
      "\u001b[0;32m<ipython-input-47-5853a188580c>\u001b[0m in \u001b[0;36m<module>\u001b[0;34m()\u001b[0m\n\u001b[1;32m      1\u001b[0m \u001b[0mg\u001b[0m \u001b[0;34m=\u001b[0m \u001b[0mGame\u001b[0m\u001b[0;34m(\u001b[0m\u001b[0;34m)\u001b[0m\u001b[0;34m\u001b[0m\u001b[0;34m\u001b[0m\u001b[0m\n\u001b[0;32m----> 2\u001b[0;31m \u001b[0mg\u001b[0m\u001b[0;34m.\u001b[0m\u001b[0mplay\u001b[0m\u001b[0;34m(\u001b[0m\u001b[0;34m)\u001b[0m\u001b[0;34m\u001b[0m\u001b[0;34m\u001b[0m\u001b[0m\n\u001b[0m",
      "\u001b[0;32m<ipython-input-46-859cfa5ab665>\u001b[0m in \u001b[0;36mplay\u001b[0;34m(self)\u001b[0m\n\u001b[1;32m     12\u001b[0m             \u001b[0mcur_sit\u001b[0m \u001b[0;34m=\u001b[0m \u001b[0;32mFalse\u001b[0m\u001b[0;34m\u001b[0m\u001b[0;34m\u001b[0m\u001b[0m\n\u001b[1;32m     13\u001b[0m             \u001b[0;32mwhile\u001b[0m \u001b[0;34m(\u001b[0m\u001b[0;32mnot\u001b[0m \u001b[0mcur_sit\u001b[0m\u001b[0;34m)\u001b[0m\u001b[0;34m:\u001b[0m\u001b[0;34m\u001b[0m\u001b[0;34m\u001b[0m\u001b[0m\n\u001b[0;32m---> 14\u001b[0;31m                 \u001b[0ms1\u001b[0m \u001b[0;34m=\u001b[0m \u001b[0minput\u001b[0m\u001b[0;34m(\u001b[0m\u001b[0;34mf'Player  {str(self.cur_player + 1) } input your movement: '\u001b[0m \u001b[0;34m)\u001b[0m\u001b[0;34m\u001b[0m\u001b[0;34m\u001b[0m\u001b[0m\n\u001b[0m\u001b[1;32m     15\u001b[0m                 \u001b[0;32mif\u001b[0m \u001b[0;34m(\u001b[0m\u001b[0ms1\u001b[0m \u001b[0;34m==\u001b[0m \u001b[0;34m'castling'\u001b[0m\u001b[0;34m)\u001b[0m\u001b[0;34m:\u001b[0m\u001b[0;34m\u001b[0m\u001b[0;34m\u001b[0m\u001b[0m\n\u001b[1;32m     16\u001b[0m                     \u001b[0mCastling\u001b[0m\u001b[0;34m.\u001b[0m\u001b[0mdo\u001b[0m\u001b[0;34m(\u001b[0m\u001b[0mself\u001b[0m\u001b[0;34m.\u001b[0m\u001b[0mboard\u001b[0m\u001b[0;34m,\u001b[0m \u001b[0mcur_player\u001b[0m\u001b[0;34m)\u001b[0m\u001b[0;34m\u001b[0m\u001b[0;34m\u001b[0m\u001b[0m\n",
      "\u001b[0;32m/usr/local/lib/python3.7/dist-packages/ipykernel/kernelbase.py\u001b[0m in \u001b[0;36mraw_input\u001b[0;34m(self, prompt)\u001b[0m\n\u001b[1;32m    702\u001b[0m             \u001b[0mself\u001b[0m\u001b[0;34m.\u001b[0m\u001b[0m_parent_ident\u001b[0m\u001b[0;34m,\u001b[0m\u001b[0;34m\u001b[0m\u001b[0;34m\u001b[0m\u001b[0m\n\u001b[1;32m    703\u001b[0m             \u001b[0mself\u001b[0m\u001b[0;34m.\u001b[0m\u001b[0m_parent_header\u001b[0m\u001b[0;34m,\u001b[0m\u001b[0;34m\u001b[0m\u001b[0;34m\u001b[0m\u001b[0m\n\u001b[0;32m--> 704\u001b[0;31m             \u001b[0mpassword\u001b[0m\u001b[0;34m=\u001b[0m\u001b[0;32mFalse\u001b[0m\u001b[0;34m,\u001b[0m\u001b[0;34m\u001b[0m\u001b[0;34m\u001b[0m\u001b[0m\n\u001b[0m\u001b[1;32m    705\u001b[0m         )\n\u001b[1;32m    706\u001b[0m \u001b[0;34m\u001b[0m\u001b[0m\n",
      "\u001b[0;32m/usr/local/lib/python3.7/dist-packages/ipykernel/kernelbase.py\u001b[0m in \u001b[0;36m_input_request\u001b[0;34m(self, prompt, ident, parent, password)\u001b[0m\n\u001b[1;32m    732\u001b[0m             \u001b[0;32mexcept\u001b[0m \u001b[0mKeyboardInterrupt\u001b[0m\u001b[0;34m:\u001b[0m\u001b[0;34m\u001b[0m\u001b[0;34m\u001b[0m\u001b[0m\n\u001b[1;32m    733\u001b[0m                 \u001b[0;31m# re-raise KeyboardInterrupt, to truncate traceback\u001b[0m\u001b[0;34m\u001b[0m\u001b[0;34m\u001b[0m\u001b[0;34m\u001b[0m\u001b[0m\n\u001b[0;32m--> 734\u001b[0;31m                 \u001b[0;32mraise\u001b[0m \u001b[0mKeyboardInterrupt\u001b[0m\u001b[0;34m\u001b[0m\u001b[0;34m\u001b[0m\u001b[0m\n\u001b[0m\u001b[1;32m    735\u001b[0m             \u001b[0;32melse\u001b[0m\u001b[0;34m:\u001b[0m\u001b[0;34m\u001b[0m\u001b[0;34m\u001b[0m\u001b[0m\n\u001b[1;32m    736\u001b[0m                 \u001b[0;32mbreak\u001b[0m\u001b[0;34m\u001b[0m\u001b[0;34m\u001b[0m\u001b[0m\n",
      "\u001b[0;31mKeyboardInterrupt\u001b[0m: "
     ]
    }
   ],
   "source": [
    "g = Game()\n",
    "g.play()"
   ]
  }
 ],
 "metadata": {
  "colab": {
   "collapsed_sections": [],
   "name": "ПМ20-1, Зайцева Дарья, Шахматы",
   "provenance": []
  },
  "kernelspec": {
   "display_name": "Python 3",
   "language": "python",
   "name": "python3"
  },
  "language_info": {
   "codemirror_mode": {
    "name": "ipython",
    "version": 3
   },
   "file_extension": ".py",
   "mimetype": "text/x-python",
   "name": "python",
   "nbconvert_exporter": "python",
   "pygments_lexer": "ipython3",
   "version": "3.8.3"
  }
 },
 "nbformat": 4,
 "nbformat_minor": 1
}
